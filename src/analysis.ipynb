{
 "cells": [
  {
   "cell_type": "markdown",
   "metadata": {},
   "source": [
    "# Data Set - Autos Usados\n",
    "## Columns \n",
    "- **(line number)**\n",
    "- **id**\n",
    "- **marca**\n",
    "- **modelo**\n",
    "- **año_modelo**\n",
    "- **millaje**\n",
    "- **tipo_combustible**\n",
    "- **motor**\n",
    "- **transmision**\n",
    "- **color_exterior**\n",
    "- **color_interior**\n",
    "- **accidente**\n",
    "- **sin_daños**\n",
    "- **precio**\n",
    "## Sizes\n",
    "- **Training Set** : 169768\n",
    "- **Testing Set** : 18852\n"
   ]
  },
  {
   "cell_type": "markdown",
   "metadata": {},
   "source": [
    "# Analisis Explorativo\n",
    "### What am i to do \n",
    "- Investigar que variables son mas importantes son mas influyentes \n",
    "- Identificar variables nullable o con problemas de formateo\n",
    "- Hacer un PCA o alguna analisis de varianza\n",
    "- Preprocesar el training set\n",
    "- Entrenar una red neuronal y testear metricas"
   ]
  },
  {
   "cell_type": "code",
   "execution_count": 1,
   "metadata": {},
   "outputs": [],
   "source": [
    "import pandas as pd\n",
    "from sklearn.model_selection import train_test_split\n",
    "from sklearn.preprocessing import StandardScaler, OneHotEncoder\n",
    "from sklearn.compose import ColumnTransformer\n",
    "from sklearn.pipeline import Pipeline\n",
    "import numpy as np"
   ]
  },
  {
   "cell_type": "code",
   "execution_count": 2,
   "metadata": {},
   "outputs": [
    {
     "name": "stdout",
     "output_type": "stream",
     "text": [
      "<class 'pandas.core.frame.DataFrame'>\n",
      "RangeIndex: 169679 entries, 0 to 169678\n",
      "Data columns (total 14 columns):\n",
      " #   Column            Non-Null Count   Dtype \n",
      "---  ------            --------------   ----- \n",
      " 0   numero            169679 non-null  int64 \n",
      " 1   id                169679 non-null  int64 \n",
      " 2   marca             169679 non-null  object\n",
      " 3   modelo            169679 non-null  object\n",
      " 4   año_modelo        169679 non-null  int64 \n",
      " 5   millaje           169679 non-null  int64 \n",
      " 6   tipo_combustible  165082 non-null  object\n",
      " 7   motor             169679 non-null  object\n",
      " 8   transmisión       169679 non-null  object\n",
      " 9   color_exterior    169679 non-null  object\n",
      " 10  color_interior    169679 non-null  object\n",
      " 11  accidente         167465 non-null  object\n",
      " 12  sin_daños         150366 non-null  object\n",
      " 13  precio            169679 non-null  int64 \n",
      "dtypes: int64(5), object(9)\n",
      "memory usage: 18.1+ MB\n",
      "None\n"
     ]
    }
   ],
   "source": [
    "# Load Data\n",
    "data_path = '../resources/train.csv'\n",
    "df = pd.read_csv(data_path)\n",
    "\n",
    "print(df.info())"
   ]
  },
  {
   "cell_type": "markdown",
   "metadata": {},
   "source": [
    "Por alguna razon sin_daños tiene menos valores"
   ]
  },
  {
   "cell_type": "code",
   "execution_count": 3,
   "metadata": {},
   "outputs": [
    {
     "name": "stdout",
     "output_type": "stream",
     "text": [
      "Unique values in 'sin_daños' that are neither 'Yes' nor 'No': [nan]\n"
     ]
    }
   ],
   "source": [
    "# Identify unique values that are neither \"Yes\" nor \"No\"\n",
    "unique_values = df['sin_daños'].unique()\n",
    "non_yes_no_values = [value for value in unique_values if value not in [\"Yes\", \"No\"]]\n",
    "\n",
    "print(\"Unique values in 'sin_daños' that are neither 'Yes' nor 'No':\", non_yes_no_values)"
   ]
  },
  {
   "cell_type": "code",
   "execution_count": 4,
   "metadata": {},
   "outputs": [
    {
     "name": "stdout",
     "output_type": "stream",
     "text": [
      "sin_daños\n",
      "Yes        150366\n",
      "Unknown     19313\n",
      "Name: count, dtype: int64\n"
     ]
    }
   ],
   "source": [
    "# Fill nan with Unknown, the behaviour will be the same as if it was filled with \"No\" that appears to be more appropiate but whatever\n",
    "df['sin_daños'] = df['sin_daños'].fillna(\"Unknown\")\n",
    "\n",
    "print(df['sin_daños'].value_counts())"
   ]
  },
  {
   "cell_type": "code",
   "execution_count": 5,
   "metadata": {},
   "outputs": [
    {
     "name": "stdout",
     "output_type": "stream",
     "text": [
      "<class 'pandas.core.frame.DataFrame'>\n",
      "RangeIndex: 169679 entries, 0 to 169678\n",
      "Data columns (total 11 columns):\n",
      " #   Column            Non-Null Count   Dtype \n",
      "---  ------            --------------   ----- \n",
      " 0   marca             169679 non-null  object\n",
      " 1   modelo            169679 non-null  object\n",
      " 2   año_modelo        169679 non-null  int64 \n",
      " 3   millaje           169679 non-null  int64 \n",
      " 4   tipo_combustible  165082 non-null  object\n",
      " 5   motor             169679 non-null  object\n",
      " 6   transmisión       169679 non-null  object\n",
      " 7   color_exterior    169679 non-null  object\n",
      " 8   color_interior    169679 non-null  object\n",
      " 9   accidente         167465 non-null  object\n",
      " 10  sin_daños         169679 non-null  object\n",
      "dtypes: int64(2), object(9)\n",
      "memory usage: 14.2+ MB\n",
      "None\n"
     ]
    }
   ],
   "source": [
    "# Drop Less Informative Columns\n",
    "columns_to_drop = ['numero', 'id']\n",
    "df = df.drop(columns=[col for col in columns_to_drop if col in df.columns])\n",
    "\n",
    "# Separate features and target variable\n",
    "X = df.drop(columns=['precio'])\n",
    "y = df['precio']\n",
    "print(X.info())"
   ]
  },
  {
   "cell_type": "code",
   "execution_count": null,
   "metadata": {},
   "outputs": [
    {
     "name": "stdout",
     "output_type": "stream",
     "text": [
      "Numeric Features by Correlation with Price:\n",
      "millaje       0.282018\n",
      "año_modelo    0.230902\n",
      "dtype: float64\n",
      "\n",
      "Categorical Features by Mutual Information with Price:\n",
      "motor: 0.5966\n",
      "transmisión: 0.4391\n",
      "modelo: 0.4137\n",
      "sin_daños: 0.1604\n",
      "marca: 0.1512\n",
      "color_exterior: 0.1298\n",
      "color_interior: 0.1251\n",
      "accidente: 0.0623\n",
      "tipo_combustible: 0.0345\n"
     ]
    }
   ],
   "source": [
    "import pandas as pd\n",
    "from sklearn.feature_selection import mutual_info_regression\n",
    "from sklearn.preprocessing import LabelEncoder\n",
    "\n",
    "# Calculate Correlation for Numeric Features\n",
    "# Only include numeric columns in correlation matrix\n",
    "numeric_features = X.select_dtypes(include=['int64', 'float64']).columns\n",
    "correlations = X[numeric_features].corrwith(y).abs()\n",
    "\n",
    "# Calculate Mutual Information for Categorical Features\n",
    "categorical_features = X.select_dtypes(include=['object']).columns\n",
    "mutual_info_scores = {}\n",
    "\n",
    "# Encode categorical features and calculate mutual information\n",
    "for col in categorical_features:\n",
    "    le = LabelEncoder()\n",
    "    X[col] = le.fit_transform(X[col])\n",
    "    mutual_info_scores[col] = mutual_info_regression(X[[col]], y)[0]\n",
    "\n",
    "# Combine the results\n",
    "correlations = correlations.sort_values(ascending=False)\n",
    "mutual_info_scores = {k: v for k, v in sorted(mutual_info_scores.items(), key=lambda item: item[1], reverse=True)}\n",
    "\n",
    "# Display the most influential features\n",
    "print(\"Numeric Features by Correlation with Price:\")\n",
    "print(correlations)\n",
    "\n",
    "print(\"\\nCategorical Features by Mutual Information with Price:\")\n",
    "for feature, score in mutual_info_scores.items():\n",
    "    print(f\"{feature}: {score:.4f}\")"
   ]
  }
 ],
 "metadata": {
  "kernelspec": {
   "display_name": "nlpenv",
   "language": "python",
   "name": "nlpenv"
  },
  "language_info": {
   "codemirror_mode": {
    "name": "ipython",
    "version": 3
   },
   "file_extension": ".py",
   "mimetype": "text/x-python",
   "name": "python",
   "nbconvert_exporter": "python",
   "pygments_lexer": "ipython3",
   "version": "3.10.12"
  }
 },
 "nbformat": 4,
 "nbformat_minor": 2
}
